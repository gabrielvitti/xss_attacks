{
 "cells": [
  {
   "cell_type": "code",
   "execution_count": 2,
   "id": "02c0c098-ce10-40b6-b5aa-be958b7255da",
   "metadata": {
    "tags": []
   },
   "outputs": [
    {
     "name": "stdout",
     "output_type": "stream",
     "text": [
      "b\"'='\"\n",
      "Input: 219149515723680363882594749058\n",
      "MD5 Hash: b\"N\\x9c&\\x85\\xd2\\xd7\\x9a\\x99\\xa9\\x1cPUz'='\"\n"
     ]
    }
   ],
   "source": [
    "import sys\n",
    "from urllib.parse import quote, urlparse\n",
    "from pymd5 import md5, padding\n",
    "import re\n",
    "import random\n",
    "import hashlib\n",
    "import random\n",
    "import string\n",
    "\n",
    "target_substring = b\"'='\"\n",
    "print(target_substring)\n",
    "\n",
    "while True:\n",
    "    # Generate a random input string (e.g., 10 characters)\n",
    "    input_string = \"\"\n",
    "    for i in range(0,3):\n",
    "        input_string += str(random.getrandbits(32))\n",
    "    # Compute the MD5 hash of the input string\n",
    "    md5_hash = md5(input_string).digest()\n",
    "\n",
    "    # Check if the target substring is contained in the hash\n",
    "    checker = re.search(target_substring, md5_hash)\n",
    "    if checker:\n",
    "        print(f\"Input: {input_string}\")\n",
    "        print(f\"MD5 Hash: {md5_hash}\")\n",
    "        break\n"
   ]
  },
  {
   "cell_type": "code",
   "execution_count": null,
   "id": "61800939-32c4-4474-8d26-0a0f89c7d1e7",
   "metadata": {},
   "outputs": [],
   "source": []
  },
  {
   "cell_type": "code",
   "execution_count": null,
   "id": "2520c664-7963-41ad-af6c-30cd54b28488",
   "metadata": {},
   "outputs": [],
   "source": []
  }
 ],
 "metadata": {
  "kernelspec": {
   "display_name": "Python 3 (ipykernel)",
   "language": "python",
   "name": "python3"
  },
  "language_info": {
   "codemirror_mode": {
    "name": "ipython",
    "version": 3
   },
   "file_extension": ".py",
   "mimetype": "text/x-python",
   "name": "python",
   "nbconvert_exporter": "python",
   "pygments_lexer": "ipython3",
   "version": "3.11.4"
  }
 },
 "nbformat": 4,
 "nbformat_minor": 5
}
